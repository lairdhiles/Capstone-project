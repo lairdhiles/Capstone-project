{
 "cells": [
  {
   "cell_type": "markdown",
   "metadata": {},
   "source": [
    "# Project Title\n",
    "### Data Engineering Capstone Project\n",
    "\n",
    "#### Project Summary\n",
    "--describe your project at a high level--\n",
    "\n",
    "The project follows the follow steps:\n",
    "* Step 1: Scope the Project and Gather Data\n",
    "* Step 2: Explore and Assess the Data\n",
    "* Step 3: Define the Data Model\n",
    "* Step 4: Run ETL to Model the Data\n",
    "* Step 5: Complete Project Write Up"
   ]
  },
  {
   "cell_type": "code",
   "execution_count": 1,
   "metadata": {},
   "outputs": [],
   "source": [
    "import pandas as pd\n",
    "import seaborn as sns\n",
    "import matplotlib.pyplot as plt\n",
    "import os\n",
    "import configparser\n",
    "import datetime as dt\n",
    "import numpy\n",
    "\n",
    "from pyspark.sql import SparkSession\n",
    "from pyspark.sql.functions import avg\n",
    "from pyspark.sql import SQLContext\n",
    "from pyspark.sql.functions import isnan, when, count, col, udf, dayofmonth, dayofweek, month, year, weekofyear\n",
    "from pyspark.sql.functions import monotonically_increasing_id\n",
    "from pyspark.sql.types import *\n",
    "from pyspark.sql.functions import *\n",
    "\n",
    "import transform"
   ]
  },
  {
   "cell_type": "code",
   "execution_count": 2,
   "metadata": {
    "scrolled": true
   },
   "outputs": [],
   "source": [
    "import importlib\n",
    "importlib.reload(transform)\n",
    "from transform import drop_na_rows"
   ]
  },
  {
   "cell_type": "markdown",
   "metadata": {},
   "source": [
    "### Step 1: Scope the Project and Gather Data\n",
    "\n",
    "\n",
    "#### Scope\n",
    "The project aims to build an ETL (Extract, Transform, Load) application using Apache Spark and Python to process and analyze immigration, demographics, and passenger flight data. The goal is to transform raw data into structured dimension and fact tables for further analysis.\n",
    "\n",
    "#### Describe and Gather Data \n",
    "1 - Immigration Data: The immigration data is stored in SAS format and represents monthly records of immigrant arrivals in the United States. It contains various attributes such as arrival date, country of residence, state of arrival, visa type, and more.\n",
    "\n",
    "2- Demographics Data: The demographics data represents information about US cities and includes attributes such as median age, male and female populations, number of veterans, foreign-born residents, average household size, etc.\n",
    "\n",
    "3 - Passenger Flight Data: The passenger flight data provides information about international flight passengers, including flight details, airport codes, air carriers, and flight types.\n",
    "\n",
    "4 - Global Temperatures Data: The global temperatures data contains temperature records for various cities and countries."
   ]
  },
  {
   "cell_type": "code",
   "execution_count": 3,
   "metadata": {},
   "outputs": [],
   "source": [
    "config = configparser.ConfigParser()\n",
    "config.read('config.cfg')\n",
    "\n",
    "os.environ['AWS_ACCESS_KEY_ID']=config['AWS']['AWS_ACCESS_KEY_ID']\n",
    "os.environ['AWS_SECRET_ACCESS_KEY']=config['AWS']['AWS_SECRET_ACCESS_KEY']"
   ]
  },
  {
   "cell_type": "code",
   "execution_count": 4,
   "metadata": {},
   "outputs": [],
   "source": [
    "spark = SparkSession.builder.\\\n",
    "config(\"spark.jars.repositories\", \"https://repos.spark-packages.org/\").\\\n",
    "config(\"spark.jars.packages\", \"saurfang:spark-sas7bdat:2.0.0-s_2.11\").\\\n",
    "enableHiveSupport().getOrCreate()"
   ]
  },
  {
   "cell_type": "markdown",
   "metadata": {},
   "source": [
    "# I94 Immigration dataset"
   ]
  },
  {
   "cell_type": "code",
   "execution_count": 5,
   "metadata": {},
   "outputs": [],
   "source": [
    "fname = '../../data/18-83510-I94-Data-2016/i94_apr16_sub.sas7bdat'\n",
    "Immigration_df = spark.read.format('com.github.saurfang.sas.spark').load(fname)"
   ]
  },
  {
   "cell_type": "code",
   "execution_count": 5,
   "metadata": {},
   "outputs": [
    {
     "data": {
      "text/html": [
       "<div>\n",
       "<style scoped>\n",
       "    .dataframe tbody tr th:only-of-type {\n",
       "        vertical-align: middle;\n",
       "    }\n",
       "\n",
       "    .dataframe tbody tr th {\n",
       "        vertical-align: top;\n",
       "    }\n",
       "\n",
       "    .dataframe thead th {\n",
       "        text-align: right;\n",
       "    }\n",
       "</style>\n",
       "<table border=\"1\" class=\"dataframe\">\n",
       "  <thead>\n",
       "    <tr style=\"text-align: right;\">\n",
       "      <th></th>\n",
       "      <th>cicid</th>\n",
       "      <th>i94yr</th>\n",
       "      <th>i94mon</th>\n",
       "      <th>i94cit</th>\n",
       "      <th>i94res</th>\n",
       "      <th>i94port</th>\n",
       "      <th>arrdate</th>\n",
       "      <th>i94mode</th>\n",
       "      <th>i94addr</th>\n",
       "      <th>depdate</th>\n",
       "      <th>...</th>\n",
       "      <th>entdepu</th>\n",
       "      <th>matflag</th>\n",
       "      <th>biryear</th>\n",
       "      <th>dtaddto</th>\n",
       "      <th>gender</th>\n",
       "      <th>insnum</th>\n",
       "      <th>airline</th>\n",
       "      <th>admnum</th>\n",
       "      <th>fltno</th>\n",
       "      <th>visatype</th>\n",
       "    </tr>\n",
       "  </thead>\n",
       "  <tbody>\n",
       "    <tr>\n",
       "      <th>0</th>\n",
       "      <td>6.0</td>\n",
       "      <td>2016.0</td>\n",
       "      <td>4.0</td>\n",
       "      <td>692.0</td>\n",
       "      <td>692.0</td>\n",
       "      <td>XXX</td>\n",
       "      <td>20573.0</td>\n",
       "      <td>NaN</td>\n",
       "      <td>None</td>\n",
       "      <td>NaN</td>\n",
       "      <td>...</td>\n",
       "      <td>U</td>\n",
       "      <td>None</td>\n",
       "      <td>1979.0</td>\n",
       "      <td>10282016</td>\n",
       "      <td>None</td>\n",
       "      <td>None</td>\n",
       "      <td>None</td>\n",
       "      <td>1.897628e+09</td>\n",
       "      <td>None</td>\n",
       "      <td>B2</td>\n",
       "    </tr>\n",
       "    <tr>\n",
       "      <th>1</th>\n",
       "      <td>7.0</td>\n",
       "      <td>2016.0</td>\n",
       "      <td>4.0</td>\n",
       "      <td>254.0</td>\n",
       "      <td>276.0</td>\n",
       "      <td>ATL</td>\n",
       "      <td>20551.0</td>\n",
       "      <td>1.0</td>\n",
       "      <td>AL</td>\n",
       "      <td>NaN</td>\n",
       "      <td>...</td>\n",
       "      <td>Y</td>\n",
       "      <td>None</td>\n",
       "      <td>1991.0</td>\n",
       "      <td>D/S</td>\n",
       "      <td>M</td>\n",
       "      <td>None</td>\n",
       "      <td>None</td>\n",
       "      <td>3.736796e+09</td>\n",
       "      <td>00296</td>\n",
       "      <td>F1</td>\n",
       "    </tr>\n",
       "    <tr>\n",
       "      <th>2</th>\n",
       "      <td>15.0</td>\n",
       "      <td>2016.0</td>\n",
       "      <td>4.0</td>\n",
       "      <td>101.0</td>\n",
       "      <td>101.0</td>\n",
       "      <td>WAS</td>\n",
       "      <td>20545.0</td>\n",
       "      <td>1.0</td>\n",
       "      <td>MI</td>\n",
       "      <td>20691.0</td>\n",
       "      <td>...</td>\n",
       "      <td>None</td>\n",
       "      <td>M</td>\n",
       "      <td>1961.0</td>\n",
       "      <td>09302016</td>\n",
       "      <td>M</td>\n",
       "      <td>None</td>\n",
       "      <td>OS</td>\n",
       "      <td>6.666432e+08</td>\n",
       "      <td>93</td>\n",
       "      <td>B2</td>\n",
       "    </tr>\n",
       "    <tr>\n",
       "      <th>3</th>\n",
       "      <td>16.0</td>\n",
       "      <td>2016.0</td>\n",
       "      <td>4.0</td>\n",
       "      <td>101.0</td>\n",
       "      <td>101.0</td>\n",
       "      <td>NYC</td>\n",
       "      <td>20545.0</td>\n",
       "      <td>1.0</td>\n",
       "      <td>MA</td>\n",
       "      <td>20567.0</td>\n",
       "      <td>...</td>\n",
       "      <td>None</td>\n",
       "      <td>M</td>\n",
       "      <td>1988.0</td>\n",
       "      <td>09302016</td>\n",
       "      <td>None</td>\n",
       "      <td>None</td>\n",
       "      <td>AA</td>\n",
       "      <td>9.246846e+10</td>\n",
       "      <td>00199</td>\n",
       "      <td>B2</td>\n",
       "    </tr>\n",
       "    <tr>\n",
       "      <th>4</th>\n",
       "      <td>17.0</td>\n",
       "      <td>2016.0</td>\n",
       "      <td>4.0</td>\n",
       "      <td>101.0</td>\n",
       "      <td>101.0</td>\n",
       "      <td>NYC</td>\n",
       "      <td>20545.0</td>\n",
       "      <td>1.0</td>\n",
       "      <td>MA</td>\n",
       "      <td>20567.0</td>\n",
       "      <td>...</td>\n",
       "      <td>None</td>\n",
       "      <td>M</td>\n",
       "      <td>2012.0</td>\n",
       "      <td>09302016</td>\n",
       "      <td>None</td>\n",
       "      <td>None</td>\n",
       "      <td>AA</td>\n",
       "      <td>9.246846e+10</td>\n",
       "      <td>00199</td>\n",
       "      <td>B2</td>\n",
       "    </tr>\n",
       "  </tbody>\n",
       "</table>\n",
       "<p>5 rows × 28 columns</p>\n",
       "</div>"
      ],
      "text/plain": [
       "   cicid   i94yr  i94mon  i94cit  i94res i94port  arrdate  i94mode i94addr  \\\n",
       "0    6.0  2016.0     4.0   692.0   692.0     XXX  20573.0      NaN    None   \n",
       "1    7.0  2016.0     4.0   254.0   276.0     ATL  20551.0      1.0      AL   \n",
       "2   15.0  2016.0     4.0   101.0   101.0     WAS  20545.0      1.0      MI   \n",
       "3   16.0  2016.0     4.0   101.0   101.0     NYC  20545.0      1.0      MA   \n",
       "4   17.0  2016.0     4.0   101.0   101.0     NYC  20545.0      1.0      MA   \n",
       "\n",
       "   depdate   ...     entdepu  matflag  biryear   dtaddto gender insnum  \\\n",
       "0      NaN   ...           U     None   1979.0  10282016   None   None   \n",
       "1      NaN   ...           Y     None   1991.0       D/S      M   None   \n",
       "2  20691.0   ...        None        M   1961.0  09302016      M   None   \n",
       "3  20567.0   ...        None        M   1988.0  09302016   None   None   \n",
       "4  20567.0   ...        None        M   2012.0  09302016   None   None   \n",
       "\n",
       "  airline        admnum  fltno visatype  \n",
       "0    None  1.897628e+09   None       B2  \n",
       "1    None  3.736796e+09  00296       F1  \n",
       "2      OS  6.666432e+08     93       B2  \n",
       "3      AA  9.246846e+10  00199       B2  \n",
       "4      AA  9.246846e+10  00199       B2  \n",
       "\n",
       "[5 rows x 28 columns]"
      ]
     },
     "execution_count": 5,
     "metadata": {},
     "output_type": "execute_result"
    }
   ],
   "source": [
    "Immigration_df.limit(5).toPandas()"
   ]
  },
  {
   "cell_type": "code",
   "execution_count": null,
   "metadata": {},
   "outputs": [],
   "source": [
    "Immigration_df.count()"
   ]
  },
  {
   "cell_type": "markdown",
   "metadata": {},
   "source": [
    "## Data Dictionary\n",
    "\n",
    "| Feature   | Description                                                                   |\n",
    "|-----------|-------------------------------------------------------------------------------|\n",
    "| cicid     | Unique record ID                                                              |\n",
    "| i94yr     | 4-digit year                                                                  |\n",
    "| i94mon    | Numeric month                                                                 |\n",
    "| i94cit    | 3-digit code for immigrant country of birth                                   |\n",
    "| i94res    | 3-digit code for immigrant country of residence                               |\n",
    "| i94port   | Port of admission                                                             |\n",
    "| arrdate   | Arrival Date in the USA                                                       |\n",
    "| i94mode   | Mode of transportation (1 = Air; 2 = Sea; 3 = Land; 9 = Not reported)         |\n",
    "| i94addr   | USA State of arrival                                                          |\n",
    "| depdate   | Departure Date from the USA                                                   |\n",
    "| i94bir    | Age of Respondent in Years                                                    |\n",
    "| i94visa   | Visa codes collapsed into three categories                                    |\n",
    "| count     | Field used for summary statistics                                             |\n",
    "| dtadfile  | Character Date Field - Date added to I-94 Files                               |\n",
    "| visapost  | Department of State where the Visa was issued                                 |\n",
    "| occup     | Occupation that will be performed in U.S                                      |\n",
    "| entdepa   | Arrival Flag - admitted or paroled into the U.S.                              |\n",
    "| entdepd   | Departure Flag - Departed, lost I-94, or is deceased                          |\n",
    "| entdepu   | Update Flag - Either apprehended, overstayed, adjusted to perm residence      |\n",
    "| matflag   | Match flag - Match of arrival and departure records                           |\n",
    "| biryear   | 4-digit year of birth                                                         |\n",
    "| dtaddto   | Character Date Field - Date to which admitted to U.S. (allowed to stay until) |\n",
    "| gender    | Non-immigrant sex                                                             |\n",
    "| insnum    | INS number                                                                    |\n",
    "| airline   | Airline used to arrive in the U.S.                                            |\n",
    "| admnum    | Admission Number                                                              |\n",
    "| fltno     | Flight number of Airline used to arrive in the U.S.                           |\n",
    "| visatype  | Class of admission legally admitting the non-immigrant to temporarily stay    |\n",
    "|           | in the U.S.                                                                   |                                                       "
   ]
  },
  {
   "cell_type": "markdown",
   "metadata": {},
   "source": [
    "# World Temperature Data: Data Description\n",
    "The World Temperature dataset comes from Kaggle and represents global land temperatures by city.\n",
    "\n"
   ]
  },
  {
   "cell_type": "code",
   "execution_count": 6,
   "metadata": {},
   "outputs": [],
   "source": [
    "file_name = '../../data2/GlobalLandTemperaturesByCity.csv'\n",
    "temperature_df = spark.read.csv(file_name, header=True, inferSchema=True)"
   ]
  },
  {
   "cell_type": "code",
   "execution_count": 7,
   "metadata": {},
   "outputs": [
    {
     "data": {
      "text/html": [
       "<div>\n",
       "<style scoped>\n",
       "    .dataframe tbody tr th:only-of-type {\n",
       "        vertical-align: middle;\n",
       "    }\n",
       "\n",
       "    .dataframe tbody tr th {\n",
       "        vertical-align: top;\n",
       "    }\n",
       "\n",
       "    .dataframe thead th {\n",
       "        text-align: right;\n",
       "    }\n",
       "</style>\n",
       "<table border=\"1\" class=\"dataframe\">\n",
       "  <thead>\n",
       "    <tr style=\"text-align: right;\">\n",
       "      <th></th>\n",
       "      <th>dt</th>\n",
       "      <th>AverageTemperature</th>\n",
       "      <th>AverageTemperatureUncertainty</th>\n",
       "      <th>City</th>\n",
       "      <th>Country</th>\n",
       "      <th>Latitude</th>\n",
       "      <th>Longitude</th>\n",
       "    </tr>\n",
       "  </thead>\n",
       "  <tbody>\n",
       "    <tr>\n",
       "      <th>0</th>\n",
       "      <td>1743-11-01</td>\n",
       "      <td>6.068</td>\n",
       "      <td>1.737</td>\n",
       "      <td>Århus</td>\n",
       "      <td>Denmark</td>\n",
       "      <td>57.05N</td>\n",
       "      <td>10.33E</td>\n",
       "    </tr>\n",
       "    <tr>\n",
       "      <th>1</th>\n",
       "      <td>1743-12-01</td>\n",
       "      <td>NaN</td>\n",
       "      <td>NaN</td>\n",
       "      <td>Århus</td>\n",
       "      <td>Denmark</td>\n",
       "      <td>57.05N</td>\n",
       "      <td>10.33E</td>\n",
       "    </tr>\n",
       "    <tr>\n",
       "      <th>2</th>\n",
       "      <td>1744-01-01</td>\n",
       "      <td>NaN</td>\n",
       "      <td>NaN</td>\n",
       "      <td>Århus</td>\n",
       "      <td>Denmark</td>\n",
       "      <td>57.05N</td>\n",
       "      <td>10.33E</td>\n",
       "    </tr>\n",
       "    <tr>\n",
       "      <th>3</th>\n",
       "      <td>1744-02-01</td>\n",
       "      <td>NaN</td>\n",
       "      <td>NaN</td>\n",
       "      <td>Århus</td>\n",
       "      <td>Denmark</td>\n",
       "      <td>57.05N</td>\n",
       "      <td>10.33E</td>\n",
       "    </tr>\n",
       "    <tr>\n",
       "      <th>4</th>\n",
       "      <td>1744-03-01</td>\n",
       "      <td>NaN</td>\n",
       "      <td>NaN</td>\n",
       "      <td>Århus</td>\n",
       "      <td>Denmark</td>\n",
       "      <td>57.05N</td>\n",
       "      <td>10.33E</td>\n",
       "    </tr>\n",
       "  </tbody>\n",
       "</table>\n",
       "</div>"
      ],
      "text/plain": [
       "          dt  AverageTemperature  AverageTemperatureUncertainty   City  \\\n",
       "0 1743-11-01               6.068                          1.737  Århus   \n",
       "1 1743-12-01                 NaN                            NaN  Århus   \n",
       "2 1744-01-01                 NaN                            NaN  Århus   \n",
       "3 1744-02-01                 NaN                            NaN  Århus   \n",
       "4 1744-03-01                 NaN                            NaN  Århus   \n",
       "\n",
       "   Country Latitude Longitude  \n",
       "0  Denmark   57.05N    10.33E  \n",
       "1  Denmark   57.05N    10.33E  \n",
       "2  Denmark   57.05N    10.33E  \n",
       "3  Denmark   57.05N    10.33E  \n",
       "4  Denmark   57.05N    10.33E  "
      ]
     },
     "execution_count": 7,
     "metadata": {},
     "output_type": "execute_result"
    }
   ],
   "source": [
    "# display the first five records\n",
    "temperature_df.limit(5).toPandas()"
   ]
  },
  {
   "cell_type": "code",
   "execution_count": null,
   "metadata": {},
   "outputs": [],
   "source": [
    "# check the total number of records\n",
    "temperature_df.count()"
   ]
  },
  {
   "cell_type": "markdown",
   "metadata": {},
   "source": [
    "## Data Dictionary\n",
    "\n",
    "| Feature                      | Description                                                |\n",
    "|------------------------------|------------------------------------------------------------|\n",
    "| dt                           | Date                                                       |\n",
    "| AverageTemperature           | Global average land temperature in Celsius               |\n",
    "| AverageTemperatureUncertainty | 95% confidence interval around the average               |\n",
    "| City                         | Name of City                                               |\n",
    "| Country                      | Name of Country                                            |\n",
    "| Latitude                     | City Latitude                                              |\n",
    "| Longitude                    | City Longitude                                             |\n"
   ]
  },
  {
   "cell_type": "markdown",
   "metadata": {},
   "source": [
    "## U.S. City Demographic Data: Data Description"
   ]
  },
  {
   "cell_type": "code",
   "execution_count": 7,
   "metadata": {},
   "outputs": [],
   "source": [
    "file_name = \"us-cities-demographics.csv\"\n",
    "demographics_df = spark.read.csv(file_name, inferSchema=True, header=True, sep=';')"
   ]
  },
  {
   "cell_type": "code",
   "execution_count": 9,
   "metadata": {},
   "outputs": [
    {
     "data": {
      "text/html": [
       "<div>\n",
       "<style scoped>\n",
       "    .dataframe tbody tr th:only-of-type {\n",
       "        vertical-align: middle;\n",
       "    }\n",
       "\n",
       "    .dataframe tbody tr th {\n",
       "        vertical-align: top;\n",
       "    }\n",
       "\n",
       "    .dataframe thead th {\n",
       "        text-align: right;\n",
       "    }\n",
       "</style>\n",
       "<table border=\"1\" class=\"dataframe\">\n",
       "  <thead>\n",
       "    <tr style=\"text-align: right;\">\n",
       "      <th></th>\n",
       "      <th>City</th>\n",
       "      <th>State</th>\n",
       "      <th>Median Age</th>\n",
       "      <th>Male Population</th>\n",
       "      <th>Female Population</th>\n",
       "      <th>Total Population</th>\n",
       "      <th>Number of Veterans</th>\n",
       "      <th>Foreign-born</th>\n",
       "      <th>Average Household Size</th>\n",
       "      <th>State Code</th>\n",
       "      <th>Race</th>\n",
       "      <th>Count</th>\n",
       "    </tr>\n",
       "  </thead>\n",
       "  <tbody>\n",
       "    <tr>\n",
       "      <th>0</th>\n",
       "      <td>Silver Spring</td>\n",
       "      <td>Maryland</td>\n",
       "      <td>33.8</td>\n",
       "      <td>40601</td>\n",
       "      <td>41862</td>\n",
       "      <td>82463</td>\n",
       "      <td>1562</td>\n",
       "      <td>30908</td>\n",
       "      <td>2.60</td>\n",
       "      <td>MD</td>\n",
       "      <td>Hispanic or Latino</td>\n",
       "      <td>25924</td>\n",
       "    </tr>\n",
       "    <tr>\n",
       "      <th>1</th>\n",
       "      <td>Quincy</td>\n",
       "      <td>Massachusetts</td>\n",
       "      <td>41.0</td>\n",
       "      <td>44129</td>\n",
       "      <td>49500</td>\n",
       "      <td>93629</td>\n",
       "      <td>4147</td>\n",
       "      <td>32935</td>\n",
       "      <td>2.39</td>\n",
       "      <td>MA</td>\n",
       "      <td>White</td>\n",
       "      <td>58723</td>\n",
       "    </tr>\n",
       "    <tr>\n",
       "      <th>2</th>\n",
       "      <td>Hoover</td>\n",
       "      <td>Alabama</td>\n",
       "      <td>38.5</td>\n",
       "      <td>38040</td>\n",
       "      <td>46799</td>\n",
       "      <td>84839</td>\n",
       "      <td>4819</td>\n",
       "      <td>8229</td>\n",
       "      <td>2.58</td>\n",
       "      <td>AL</td>\n",
       "      <td>Asian</td>\n",
       "      <td>4759</td>\n",
       "    </tr>\n",
       "    <tr>\n",
       "      <th>3</th>\n",
       "      <td>Rancho Cucamonga</td>\n",
       "      <td>California</td>\n",
       "      <td>34.5</td>\n",
       "      <td>88127</td>\n",
       "      <td>87105</td>\n",
       "      <td>175232</td>\n",
       "      <td>5821</td>\n",
       "      <td>33878</td>\n",
       "      <td>3.18</td>\n",
       "      <td>CA</td>\n",
       "      <td>Black or African-American</td>\n",
       "      <td>24437</td>\n",
       "    </tr>\n",
       "    <tr>\n",
       "      <th>4</th>\n",
       "      <td>Newark</td>\n",
       "      <td>New Jersey</td>\n",
       "      <td>34.6</td>\n",
       "      <td>138040</td>\n",
       "      <td>143873</td>\n",
       "      <td>281913</td>\n",
       "      <td>5829</td>\n",
       "      <td>86253</td>\n",
       "      <td>2.73</td>\n",
       "      <td>NJ</td>\n",
       "      <td>White</td>\n",
       "      <td>76402</td>\n",
       "    </tr>\n",
       "  </tbody>\n",
       "</table>\n",
       "</div>"
      ],
      "text/plain": [
       "               City          State  Median Age  Male Population  \\\n",
       "0     Silver Spring       Maryland        33.8            40601   \n",
       "1            Quincy  Massachusetts        41.0            44129   \n",
       "2            Hoover        Alabama        38.5            38040   \n",
       "3  Rancho Cucamonga     California        34.5            88127   \n",
       "4            Newark     New Jersey        34.6           138040   \n",
       "\n",
       "   Female Population  Total Population  Number of Veterans  Foreign-born  \\\n",
       "0              41862             82463                1562         30908   \n",
       "1              49500             93629                4147         32935   \n",
       "2              46799             84839                4819          8229   \n",
       "3              87105            175232                5821         33878   \n",
       "4             143873            281913                5829         86253   \n",
       "\n",
       "   Average Household Size State Code                       Race  Count  \n",
       "0                    2.60         MD         Hispanic or Latino  25924  \n",
       "1                    2.39         MA                      White  58723  \n",
       "2                    2.58         AL                      Asian   4759  \n",
       "3                    3.18         CA  Black or African-American  24437  \n",
       "4                    2.73         NJ                      White  76402  "
      ]
     },
     "execution_count": 9,
     "metadata": {},
     "output_type": "execute_result"
    }
   ],
   "source": [
    "# display the first five records\n",
    "demographics_df.limit(5).toPandas()"
   ]
  },
  {
   "cell_type": "markdown",
   "metadata": {},
   "source": [
    "### Data dictionary"
   ]
  },
  {
   "cell_type": "markdown",
   "metadata": {},
   "source": [
    "\n",
    "| Feature              | Description                                              |\n",
    "|----------------------|----------------------------------------------------------|\n",
    "| City                 | City Name                                                |\n",
    "| State                | US State where city is located                           |\n",
    "| Median Age           | Median age of the population                             |\n",
    "| Male Population      | Count of male population                                 |\n",
    "| Female Population    | Count of female population                               |\n",
    "| Total Population     | Count of total population                                |\n",
    "| Number of Veterans   | Count of total Veterans                                  |\n",
    "| Foreign born         | Count of residents of the city that were not born in the city |\n",
    "| Average Household Size | Average city household size                             |\n",
    "| State Code           | Code of the US state                                     |\n",
    "| Race                 | Respondent race                                          |\n",
    "| Count                | Count of city's individuals per race                     |\n"
   ]
  },
  {
   "cell_type": "markdown",
   "metadata": {},
   "source": [
    "## U.S. Passenger flight information\n"
   ]
  },
  {
   "cell_type": "code",
   "execution_count": 8,
   "metadata": {},
   "outputs": [],
   "source": [
    "flights_df = spark.read.csv('International_Report_Passengers.csv', inferSchema=True, header=True)"
   ]
  },
  {
   "cell_type": "code",
   "execution_count": 6,
   "metadata": {},
   "outputs": [
    {
     "data": {
      "text/html": [
       "<div>\n",
       "<style scoped>\n",
       "    .dataframe tbody tr th:only-of-type {\n",
       "        vertical-align: middle;\n",
       "    }\n",
       "\n",
       "    .dataframe tbody tr th {\n",
       "        vertical-align: top;\n",
       "    }\n",
       "\n",
       "    .dataframe thead th {\n",
       "        text-align: right;\n",
       "    }\n",
       "</style>\n",
       "<table border=\"1\" class=\"dataframe\">\n",
       "  <thead>\n",
       "    <tr style=\"text-align: right;\">\n",
       "      <th></th>\n",
       "      <th>data_dte</th>\n",
       "      <th>Year</th>\n",
       "      <th>Month</th>\n",
       "      <th>usg_apt_id</th>\n",
       "      <th>usg_apt</th>\n",
       "      <th>usg_wac</th>\n",
       "      <th>fg_apt_id</th>\n",
       "      <th>fg_apt</th>\n",
       "      <th>fg_wac</th>\n",
       "      <th>airlineid</th>\n",
       "      <th>carrier</th>\n",
       "      <th>carriergroup</th>\n",
       "      <th>type</th>\n",
       "      <th>Scheduled</th>\n",
       "      <th>Charter</th>\n",
       "      <th>Total</th>\n",
       "    </tr>\n",
       "  </thead>\n",
       "  <tbody>\n",
       "    <tr>\n",
       "      <th>0</th>\n",
       "      <td>05/01/2014</td>\n",
       "      <td>2014</td>\n",
       "      <td>5</td>\n",
       "      <td>14492</td>\n",
       "      <td>RDU</td>\n",
       "      <td>36</td>\n",
       "      <td>11032</td>\n",
       "      <td>CUN</td>\n",
       "      <td>148</td>\n",
       "      <td>19534</td>\n",
       "      <td>AM</td>\n",
       "      <td>0</td>\n",
       "      <td>Passengers</td>\n",
       "      <td>0</td>\n",
       "      <td>315</td>\n",
       "      <td>315</td>\n",
       "    </tr>\n",
       "    <tr>\n",
       "      <th>1</th>\n",
       "      <td>06/01/2007</td>\n",
       "      <td>2007</td>\n",
       "      <td>6</td>\n",
       "      <td>13204</td>\n",
       "      <td>MCO</td>\n",
       "      <td>33</td>\n",
       "      <td>16085</td>\n",
       "      <td>YHZ</td>\n",
       "      <td>951</td>\n",
       "      <td>20364</td>\n",
       "      <td>C6</td>\n",
       "      <td>0</td>\n",
       "      <td>Passengers</td>\n",
       "      <td>0</td>\n",
       "      <td>683</td>\n",
       "      <td>683</td>\n",
       "    </tr>\n",
       "    <tr>\n",
       "      <th>2</th>\n",
       "      <td>12/01/2005</td>\n",
       "      <td>2005</td>\n",
       "      <td>12</td>\n",
       "      <td>11433</td>\n",
       "      <td>DTW</td>\n",
       "      <td>43</td>\n",
       "      <td>10411</td>\n",
       "      <td>AUA</td>\n",
       "      <td>277</td>\n",
       "      <td>20344</td>\n",
       "      <td>RD</td>\n",
       "      <td>1</td>\n",
       "      <td>Passengers</td>\n",
       "      <td>0</td>\n",
       "      <td>1010</td>\n",
       "      <td>1010</td>\n",
       "    </tr>\n",
       "    <tr>\n",
       "      <th>3</th>\n",
       "      <td>04/01/2003</td>\n",
       "      <td>2003</td>\n",
       "      <td>4</td>\n",
       "      <td>13487</td>\n",
       "      <td>MSP</td>\n",
       "      <td>63</td>\n",
       "      <td>16304</td>\n",
       "      <td>ZIH</td>\n",
       "      <td>148</td>\n",
       "      <td>20204</td>\n",
       "      <td>MG</td>\n",
       "      <td>1</td>\n",
       "      <td>Passengers</td>\n",
       "      <td>0</td>\n",
       "      <td>508</td>\n",
       "      <td>508</td>\n",
       "    </tr>\n",
       "    <tr>\n",
       "      <th>4</th>\n",
       "      <td>12/01/2005</td>\n",
       "      <td>2005</td>\n",
       "      <td>12</td>\n",
       "      <td>12016</td>\n",
       "      <td>GUM</td>\n",
       "      <td>5</td>\n",
       "      <td>11138</td>\n",
       "      <td>CRK</td>\n",
       "      <td>766</td>\n",
       "      <td>20312</td>\n",
       "      <td>TZ</td>\n",
       "      <td>1</td>\n",
       "      <td>Passengers</td>\n",
       "      <td>0</td>\n",
       "      <td>76</td>\n",
       "      <td>76</td>\n",
       "    </tr>\n",
       "  </tbody>\n",
       "</table>\n",
       "</div>"
      ],
      "text/plain": [
       "     data_dte  Year  Month  usg_apt_id usg_apt  usg_wac  fg_apt_id fg_apt  \\\n",
       "0  05/01/2014  2014      5       14492     RDU       36      11032    CUN   \n",
       "1  06/01/2007  2007      6       13204     MCO       33      16085    YHZ   \n",
       "2  12/01/2005  2005     12       11433     DTW       43      10411    AUA   \n",
       "3  04/01/2003  2003      4       13487     MSP       63      16304    ZIH   \n",
       "4  12/01/2005  2005     12       12016     GUM        5      11138    CRK   \n",
       "\n",
       "   fg_wac  airlineid carrier  carriergroup        type  Scheduled  Charter  \\\n",
       "0     148      19534      AM             0  Passengers          0      315   \n",
       "1     951      20364      C6             0  Passengers          0      683   \n",
       "2     277      20344      RD             1  Passengers          0     1010   \n",
       "3     148      20204      MG             1  Passengers          0      508   \n",
       "4     766      20312      TZ             1  Passengers          0       76   \n",
       "\n",
       "   Total  \n",
       "0    315  \n",
       "1    683  \n",
       "2   1010  \n",
       "3    508  \n",
       "4     76  "
      ]
     },
     "execution_count": 6,
     "metadata": {},
     "output_type": "execute_result"
    }
   ],
   "source": [
    "flights_df.limit(5).toPandas()"
   ]
  },
  {
   "cell_type": "markdown",
   "metadata": {},
   "source": [
    "### Data dictionary"
   ]
  },
  {
   "cell_type": "markdown",
   "metadata": {},
   "source": [
    "\n",
    "| Feature              | Description                                              |\n",
    "|----------------------|----------------------------------------------------------|\n",
    "| data_dte                 | Date of flight                                                |\n",
    "| Year                     | Year of flight                          |\n",
    "| Month                    | Month of flight                             |\n",
    "| usg_apt_id              | US Gateway Airport ID - assigned by US DOT to identify an airport                                 |\n",
    "| usg_apt    | US Gateway Airport Code                               |\n",
    "| usg_wac     | US Gateway World Area Code                                |\n",
    "| fg_apt_id   | Foreign Gateway Airport ID                                  |\n",
    "| fg_apt         | Foreign Gateway Airport Code |\n",
    "| fg_wac | Foreign Gateway World Area Code                              |\n",
    "| airlineid             | Airline ID                                      |\n",
    "| carrier                | IATA-assigned air carrier code                                         |\n",
    "| carriergroup                | Carrier Group Code - 1 denotes US domestic air carriers,                     |\n",
    "| type             | The type of the metrics                                     |\n",
    "|Scheduled            |    Metric flown by scheduled service operations          |\n",
    "| Charter                | Metric flown by charter operations                                         |\n",
    "| Total                | Total Total Metric flown by scheduled service                    |\n",
    "\n"
   ]
  },
  {
   "cell_type": "markdown",
   "metadata": {},
   "source": [
    "### Step 2: Explore and Assess the Data\n",
    "#### Explore the Data \n",
    "I will now explore each dataset using the transform function that I have created within the transform script of the ETL application.\n"
   ]
  },
  {
   "cell_type": "markdown",
   "metadata": {},
   "source": [
    "## 194 immigration data cleaning\n"
   ]
  },
  {
   "cell_type": "code",
   "execution_count": 9,
   "metadata": {},
   "outputs": [
    {
     "name": "stdout",
     "output_type": "stream",
     "text": [
      "        cols   values  % missing values\n",
      "0      cicid        0          0.000000\n",
      "1      i94yr        0          0.000000\n",
      "2     i94mon        0          0.000000\n",
      "3     i94cit        0          0.000000\n",
      "4     i94res        0          0.000000\n",
      "5    i94port        0          0.000000\n",
      "6    arrdate        0          0.000000\n",
      "7    i94mode      239          0.007719\n",
      "8    i94addr   152592          4.928184\n",
      "9    depdate   142457          4.600859\n",
      "10    i94bir      802          0.025902\n",
      "11   i94visa        0          0.000000\n",
      "12     count        0          0.000000\n",
      "13  dtadfile        1          0.000032\n",
      "14  visapost  1881250         60.757746\n",
      "15     occup  3088187         99.737559\n",
      "16   entdepa      238          0.007687\n",
      "17   entdepd   138429          4.470769\n",
      "18   entdepu  3095921         99.987340\n",
      "19   matflag   138429          4.470769\n",
      "20   biryear      802          0.025902\n",
      "21   dtaddto      477          0.015405\n",
      "22    gender   414269         13.379429\n",
      "23    insnum  2982605         96.327632\n",
      "24   airline    83627          2.700857\n",
      "25    admnum        0          0.000000\n",
      "26     fltno    19549          0.631364\n",
      "27  visatype        0          0.000000\n"
     ]
    }
   ],
   "source": [
    "#Show the percentages of missing values per row using show_percentage_missing function\n",
    "transform.show_percentage_missing(Immigration_df)"
   ]
  },
  {
   "cell_type": "code",
   "execution_count": null,
   "metadata": {},
   "outputs": [],
   "source": [
    "Immigration_df = transform.drop_na_rows(Immigration_df)"
   ]
  },
  {
   "cell_type": "markdown",
   "metadata": {},
   "source": [
    "## World Temperature Data cleaning "
   ]
  },
  {
   "cell_type": "code",
   "execution_count": 12,
   "metadata": {},
   "outputs": [
    {
     "name": "stdout",
     "output_type": "stream",
     "text": [
      "                            cols  values  % missing values\n",
      "0                             dt       0          0.000000\n",
      "1             AverageTemperature  364130          4.234458\n",
      "2  AverageTemperatureUncertainty  364130          4.234458\n",
      "3                           City       0          0.000000\n",
      "4                        Country       0          0.000000\n",
      "5                       Latitude       0          0.000000\n",
      "6                      Longitude       0          0.000000\n"
     ]
    }
   ],
   "source": [
    "#Change format of dt column in order to correct any values as required\n",
    "temperature_df = temperature_df.withColumn(\"dt\", unix_timestamp(\"dt\").cast(\"float\"))\n",
    "\n",
    "#Show the percentages of missing values per row using show_percentage_missing function\n",
    "transform.show_percentage_missing(temperature_df)"
   ]
  },
  {
   "cell_type": "code",
   "execution_count": 13,
   "metadata": {},
   "outputs": [
    {
     "data": {
      "text/plain": [
       "8599212"
      ]
     },
     "execution_count": 13,
     "metadata": {},
     "output_type": "execute_result"
    }
   ],
   "source": [
    "temperature_df.count()"
   ]
  },
  {
   "cell_type": "markdown",
   "metadata": {},
   "source": [
    "## US City Demographic Data Cleansing "
   ]
  },
  {
   "cell_type": "code",
   "execution_count": 14,
   "metadata": {},
   "outputs": [
    {
     "name": "stdout",
     "output_type": "stream",
     "text": [
      "                      cols  values  % missing values\n",
      "0                     City       0          0.000000\n",
      "1                    State       0          0.000000\n",
      "2               Median Age       0          0.000000\n",
      "3          Male Population       3          0.103770\n",
      "4        Female Population       3          0.103770\n",
      "5         Total Population       0          0.000000\n",
      "6       Number of Veterans      13          0.449671\n",
      "7             Foreign-born      13          0.449671\n",
      "8   Average Household Size      16          0.553442\n",
      "9               State Code       0          0.000000\n",
      "10                    Race       0          0.000000\n",
      "11                   Count       0          0.000000\n"
     ]
    }
   ],
   "source": [
    "transform.show_percentage_missing(demographics_df)\n"
   ]
  },
  {
   "cell_type": "code",
   "execution_count": null,
   "metadata": {},
   "outputs": [],
   "source": [
    "demographics_df = transform.drop_na_rows(demographics_df)"
   ]
  },
  {
   "cell_type": "markdown",
   "metadata": {},
   "source": [
    "## U.S. Passenger flight information Cleansing "
   ]
  },
  {
   "cell_type": "code",
   "execution_count": 15,
   "metadata": {},
   "outputs": [
    {
     "name": "stdout",
     "output_type": "stream",
     "text": [
      "            cols  values  % missing values\n",
      "0       data_dte       0               0.0\n",
      "1           Year       0               0.0\n",
      "2          Month       0               0.0\n",
      "3     usg_apt_id       0               0.0\n",
      "4        usg_apt       0               0.0\n",
      "5        usg_wac       0               0.0\n",
      "6      fg_apt_id       0               0.0\n",
      "7         fg_apt       0               0.0\n",
      "8         fg_wac       0               0.0\n",
      "9      airlineid       0               0.0\n",
      "10       carrier       0               0.0\n",
      "11  carriergroup       0               0.0\n",
      "12          type       0               0.0\n",
      "13     Scheduled       0               0.0\n",
      "14       Charter       0               0.0\n",
      "15         Total       0               0.0\n"
     ]
    }
   ],
   "source": [
    "transform.show_percentage_missing(flights_df)"
   ]
  },
  {
   "cell_type": "code",
   "execution_count": null,
   "metadata": {},
   "outputs": [],
   "source": [
    "flights_df = transform.drop_na_rows(flights_df)"
   ]
  },
  {
   "cell_type": "markdown",
   "metadata": {},
   "source": [
    "### For Cleaning steps plese see steps outlined in transform.py ##"
   ]
  },
  {
   "cell_type": "markdown",
   "metadata": {},
   "source": [
    "## Step 3: Define the Data Model\n",
    "#### 3.1 Conceptual Data Model"
   ]
  },
  {
   "attachments": {
    "Capstone_project_data_model.jpg": {
     "image/jpeg": "[encoded data removed]"
    }
   },
   "cell_type": "markdown",
   "metadata": {},
   "source": [
    "![Capstone_project_data_model.jpg](attachment:Capstone_project_data_model.jpg)"
   ]
  },
  {
   "cell_type": "markdown",
   "metadata": {},
   "source": [
    "The data model for this project consists of dimension and fact tables designed to efficiently store and organize the immigration and passenger flight data. The data model is justified based on the principles of data normalization, the need for efficient querying, and the goal of enabling insightful analysis and reporting. Below is a detailed description and justification of the data model:"
   ]
  },
  {
   "cell_type": "markdown",
   "metadata": {},
   "source": [
    "### Step 4: Run Pipelines to Model the Data \n",
    "### For Data model steps plese see steps outlined in etl.py ##"
   ]
  },
  {
   "cell_type": "markdown",
   "metadata": {},
   "source": [
    "#### 4.2 Data Quality Checks\n",
    "All Data Quality checks are integrated with the script. Once etl.py is ran tables will be dq checked using the following function: <br> # Perform quality checks here\n",
    "def quality_checks(df, table_name):<br>\n",
    "    \"\"\"Count checks on fact and dimension table to ensure completeness of data.\n",
    "\n",
    "    :param df: spark dataframe to check counts on\n",
    "    :param table_name: corresponding name of table\n",
    "    \"\"\"\n",
    "    total_count = df.count()\n",
    "\n",
    "    if total_count == 0:\n",
    "        print(f\"Data quality check failed for {table_name} with zero records!\")\n",
    "    else:\n",
    "        print(f\"Data quality check passed for {table_name} with {total_count:,} records.\")\n",
    "    return 0"
   ]
  },
  {
   "cell_type": "markdown",
   "metadata": {},
   "source": [
    "### 4.3 Data dictionary \n"
   ]
  },
  {
   "cell_type": "markdown",
   "metadata": {},
   "source": [
    "#### Dimension Tables:\n",
    "\n",
    "1. Flight Dim:\n",
    "    - **id**: Integer - Unique identifier for the flight record.\n",
    "    - **flight_date**: Date - Date of the flight.\n",
    "    - **us_airport_Code**: String - Code of the U.S. airport.\n",
    "    - **foreign_airport_code**: String - Code of the foreign airport.\n",
    "    - **air_carrier_code**: String - Code of the air carrier.\n",
    "    - **flight_type**: String - Type of the flight.\n",
    "\n",
    "2. Demographics Dim:\n",
    "    - **id**: Integer - Unique identifier for the demographic record.\n",
    "    - **median_age**: Double - Median age of the city population.\n",
    "    - **male_population**: Integer - Total male population in the city.\n",
    "    - **female_population**: Integer - Total female population in the city.\n",
    "    - **total_population**: Integer - Total population in the city.\n",
    "    - **number_of_veterans**: Integer - Total number of veterans in the city.\n",
    "    - **foreign_born**: Integer - Total number of foreign-born residents in the city.\n",
    "    - **average_household_size**: Double - Average household size in the city.\n",
    "    - **state_code**: String - Code of the state where the city is located.\n",
    "\n",
    "3. Visa Type Dim:\n",
    "    - **visa_type_key**: Integer - Unique identifier for the visa type.\n",
    "    - **visatype**: String - Type of visa.\n",
    "\n",
    "4. Temperature Dim:\n",
    "    - **date**: Date - Date for the temperature record.\n",
    "    - **average_temperature**: Double - Average temperature on the given date.\n",
    "\n",
    "5. Time Dim:\n",
    "    - **id**: Integer - Unique identifier for the time record.\n",
    "    - **arrdate**: Date - Arrival date in SAS format.\n",
    "    - **arrival_day**: Integer - Day of the month of arrival.\n",
    "    - **arrival_week**: Integer - Week of the year of arrival.\n",
    "    - **arrival_month**: Integer - Month of arrival.\n",
    "    - **arrival_year**: Integer - Year of arrival.\n",
    "    - **arrival_weekday**: Integer - Day of the week of arrival.\n",
    "\n",
    "\n",
    "#### Fact Table:\n",
    "\n",
    "1. Immigration Fact:\n",
    "    - **record_id**: Integer - Unique identifier for the immigration record.\n",
    "    - **country_residence_code**: Integer - Code of the country of residence.\n",
    "    - **state_code**: String - Code of the state in the U.S.\n",
    "    - **visa_type_key**: Integer - Foreign key referencing the visa type from the visa type dimension.\n",
    "    - **flight_id**: Integer - Foreign key referencing the flight record from the flight dimension.\n",
    "    - **demographics_id**: Integer - Foreign key referencing the demographic record from the demographics dimension.\n",
    "    - **temperature_id**: Integer - Foreign key referencing the temperature record from the temperature dimension.\n",
    "    - **time_id**: Integer - Foreign key referencing the time record from the time dimension."
   ]
  },
  {
   "cell_type": "markdown",
   "metadata": {},
   "source": [
    "#### Step 5: Complete Project Write Up"
   ]
  },
  {
   "cell_type": "markdown",
   "metadata": {},
   "source": [
    "Frequency of Data Update:\n",
    "\n",
    "The frequency of data update should be determined by the source of the data and the business requirements. In general, for an immigration data warehouse, the data could be updated on a monthly basis, as immigration records are often reported monthly. However, this may vary based on the source and availability of data. It's essential to strike a balance between the frequency of data updates and the resources required for data processing.\n",
    "\n",
    "Scenarios:\n",
    "\n",
    "1. The Data Was Increased by 100x:\n",
    "\n",
    "If the data was increased by 100x, the current system may face performance issues due to the increased data volume. In such a scenario, the following strategies could be employed:\n",
    "\n",
    "Utilize a distributed storage system: Switch to distributed storage systems like Hadoop Distributed File System (HDFS) or Amazon S3 to handle large volumes of data efficiently.\n",
    "Scale the compute resources: Deploy the Spark cluster on a cloud-based platform like AWS EMR, and use auto-scaling to dynamically adjust the compute resources based on workload.\n",
    "Optimize data processing: Implement performance optimizations like partitioning, bucketing, and caching to improve query performance.\n",
    "2. The Data Populates a Dashboard Updated Daily by 7 am:\n",
    "\n",
    "To meet the requirement of updating the dashboard daily by 7 am, the following steps can be taken:\n",
    "\n",
    "Schedule ETL pipeline: Set up an automated ETL pipeline using Apache Airflow or a similar tool to extract, transform, and load the data into the data warehouse.\n",
    "Incremental data loading: Instead of processing the entire dataset daily, use incremental data loading techniques to process only the new or changed data since the last update, reducing processing time.\n",
    "Optimize ETL process: Optimize data processing tasks to minimize execution time, ensuring that the pipeline completes before the specified deadline.\n",
    "3. The Database Needs to Be Accessed by 100+ People:\n",
    "\n",
    "To support a large number of concurrent users accessing the database, consider the following:\n",
    "\n",
    "Use a distributed database: Utilize a distributed database system like Amazon Redshift which can handle concurrent queries from multiple users efficiently.\n",
    "Data replication: Set up data replication or clustering to ensure high availability and load balancing for improved performance.\n",
    "Implement access controls: Apply role-based access controls to manage user permissions and restrict access to sensitive data.\n",
    "By considering the above scenarios and employing appropriate technologies, the data warehouse can be optimized to handle increased data volume, meet daily dashboard update requirements, and support a large number of users effectively."
   ]
  },
  {
   "cell_type": "code",
   "execution_count": null,
   "metadata": {},
   "outputs": [],
   "source": []
  }
 ],
 "metadata": {
  "kernelspec": {
   "display_name": "Python 3",
   "language": "python",
   "name": "python3"
  },
  "language_info": {
   "codemirror_mode": {
    "name": "ipython",
    "version": 3
   },
   "file_extension": ".py",
   "mimetype": "text/x-python",
   "name": "python",
   "nbconvert_exporter": "python",
   "pygments_lexer": "ipython3",
   "version": "3.6.3"
  }
 },
 "nbformat": 4,
 "nbformat_minor": 4
}
